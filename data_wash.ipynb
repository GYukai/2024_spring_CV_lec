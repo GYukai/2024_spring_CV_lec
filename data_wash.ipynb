{
 "cells": [
  {
   "cell_type": "code",
   "execution_count": 6,
   "metadata": {},
   "outputs": [],
   "source": [
    "import os\n",
    "\n",
    "train_path = \"BJTU_washed/train\"\n",
    "test_path = \"BJTU_washed/test\"\n",
    "\n",
    "with open(\"train_dup.txt\", \"r\") as f:\n",
    "    dup_train_file = [line.rstrip() for line in f]\n",
    "with open(\"test_dup.txt\", \"r\") as f:\n",
    "    dup_test_file = [line.rstrip() for line in f]"
   ]
  },
  {
   "cell_type": "code",
   "execution_count": 8,
   "metadata": {},
   "outputs": [
    {
     "name": "stdout",
     "output_type": "stream",
     "text": [
      "Processing BJTU_washed/train\n",
      "Dir file number before: 1230\n",
      "Dir file number after: 1230\n",
      "Processing BJTU_washed/test\n",
      "Dir file number before: 360\n",
      "Dir file number after: 334\n"
     ]
    }
   ],
   "source": [
    "def get_rid_of_img_and_json(dir_path, img_list):\n",
    "    print(\"Processing\", dir_path)\n",
    "    print(f\"Dir file number before: {len(os.listdir(dir_path))}\")\n",
    "    for img in img_list:\n",
    "        img_path = os.path.join(dir_path, img)\n",
    "        # img ext varys\n",
    "        json_path = os.path.join(dir_path, img.split('.')[0] + \".json\")\n",
    "        try:\n",
    "            os.remove(img_path)\n",
    "        except FileNotFoundError:\n",
    "            pass\n",
    "        try:\n",
    "            os.remove(json_path)\n",
    "        except FileNotFoundError:\n",
    "            pass\n",
    "    print(f\"Dir file number after: {len(os.listdir(dir_path))}\")\n",
    "\n",
    "get_rid_of_img_and_json(train_path, dup_train_file)\n",
    "get_rid_of_img_and_json(test_path, dup_test_file)      "
   ]
  },
  {
   "cell_type": "code",
   "execution_count": 4,
   "metadata": {},
   "outputs": [
    {
     "data": {
      "text/plain": [
       "'fhy-1h2i3j4k5l6m.jpeg'"
      ]
     },
     "execution_count": 4,
     "metadata": {},
     "output_type": "execute_result"
    }
   ],
   "source": [
    "os.path.basename(\"BJTU_washed/train/fhy-1h2i3j4k5l6m.jpeg\")"
   ]
  }
 ],
 "metadata": {
  "language_info": {
   "name": "python"
  }
 },
 "nbformat": 4,
 "nbformat_minor": 2
}
